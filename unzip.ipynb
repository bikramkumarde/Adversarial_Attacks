{
 "cells": [
  {
   "cell_type": "code",
   "execution_count": 1,
   "id": "a315395b-2e31-4d1c-a5b4-4255279dbf9f",
   "metadata": {},
   "outputs": [],
   "source": [
    "from zipfile import ZipFile "
   ]
  },
  {
   "cell_type": "code",
   "execution_count": 9,
   "id": "2bd496b3-5e81-4920-927e-65370fa02c30",
   "metadata": {},
   "outputs": [],
   "source": [
    "path_to_zip_file = './UCRArchive_2018.zip'\n",
    "directory_to_extract_to = 'Data_folder/'\n",
    "password = 'someone'\n",
    "\n",
    "with ZipFile(path_to_zip_file, 'r') as zip_ref:\n",
    "    zip_ref.setpassword(bytes(password, 'utf-8'))\n",
    "    zip_ref.extractall(directory_to_extract_to)"
   ]
  },
  {
   "cell_type": "code",
   "execution_count": null,
   "id": "1f71b2c2-c8f3-4a8d-b033-0a9f68cc583b",
   "metadata": {},
   "outputs": [],
   "source": []
  }
 ],
 "metadata": {
  "kernelspec": {
   "display_name": "Python 3 (ipykernel)",
   "language": "python",
   "name": "python3"
  },
  "language_info": {
   "codemirror_mode": {
    "name": "ipython",
    "version": 3
   },
   "file_extension": ".py",
   "mimetype": "text/x-python",
   "name": "python",
   "nbconvert_exporter": "python",
   "pygments_lexer": "ipython3",
   "version": "3.10.10"
  }
 },
 "nbformat": 4,
 "nbformat_minor": 5
}
